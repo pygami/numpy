{
 "cells": [
  {
   "cell_type": "code",
   "execution_count": 3,
   "metadata": {},
   "outputs": [],
   "source": [
    "import numpy as np"
   ]
  },
  {
   "cell_type": "markdown",
   "metadata": {},
   "source": [
    "### Broadcasting"
   ]
  },
  {
   "cell_type": "code",
   "execution_count": 17,
   "metadata": {},
   "outputs": [
    {
     "data": {
      "text/plain": [
       "array([[ 5,  8],\n",
       "       [ 7, 10],\n",
       "       [ 9, 12]])"
      ]
     },
     "execution_count": 17,
     "metadata": {},
     "output_type": "execute_result"
    }
   ],
   "source": [
    "arr_1d = np.array([1, 2, 3])\n",
    "arr_2d = np.array([[4, 5, 6], [7, 8, 9]])\n",
    "\n",
    "arr_2d_transposed = arr_2d.T\n",
    "result = arr_1d[:, np.newaxis] + arr_2d_transposed\n",
    "\n",
    "result"
   ]
  },
  {
   "cell_type": "markdown",
   "metadata": {},
   "source": [
    "### Advanced Indexing"
   ]
  },
  {
   "cell_type": "code",
   "execution_count": 5,
   "metadata": {},
   "outputs": [
    {
     "name": "stdout",
     "output_type": "stream",
     "text": [
      "[1 5 9]\n",
      "[6 7 8 9]\n"
     ]
    }
   ],
   "source": [
    "arr = np.array([[1, 2, 3], [4, 5, 6], [7, 8, 9]])\n",
    "row_indices = np.array([0, 1, 2])\n",
    "col_indices = np.array([0, 1, 2])\n",
    "print(arr[row_indices, col_indices])\n",
    "\n",
    "bool_arr = arr > 5\n",
    "print(arr[bool_arr])\n"
   ]
  },
  {
   "cell_type": "markdown",
   "metadata": {},
   "source": [
    "### Vectorized Functions"
   ]
  },
  {
   "cell_type": "code",
   "execution_count": 6,
   "metadata": {},
   "outputs": [
    {
     "data": {
      "text/plain": [
       "array([1.        , 1.41421356, 1.73205081, 2.        , 2.23606798])"
      ]
     },
     "execution_count": 6,
     "metadata": {},
     "output_type": "execute_result"
    }
   ],
   "source": [
    "arr = np.array([1, 2, 3, 4, 5])\n",
    "result = np.sqrt(arr)\n",
    "result"
   ]
  },
  {
   "cell_type": "markdown",
   "metadata": {},
   "source": [
    "### Performance"
   ]
  },
  {
   "cell_type": "code",
   "execution_count": 7,
   "metadata": {},
   "outputs": [
    {
     "name": "stdout",
     "output_type": "stream",
     "text": [
      "Time taken for NumPy operation: 0.004705905914306641 seconds\n",
      "Time taken for Python operation: 0.03411674499511719 seconds\n"
     ]
    }
   ],
   "source": [
    "import time\n",
    "\n",
    "start_time = time.time()\n",
    "# NumPy operation\n",
    "arr = np.arange(1000000)\n",
    "result = np.sum(arr)\n",
    "end_time = time.time()\n",
    "print(\"Time taken for NumPy operation:\", end_time - start_time, \"seconds\")\n",
    "\n",
    "start_time = time.time()\n",
    "# Equivalent Python operation\n",
    "result = sum(range(1000000))\n",
    "end_time = time.time()\n",
    "print(\"Time taken for Python operation:\", end_time - start_time, \"seconds\")\n"
   ]
  },
  {
   "cell_type": "markdown",
   "metadata": {},
   "source": [
    "### Memory Views"
   ]
  },
  {
   "cell_type": "code",
   "execution_count": 8,
   "metadata": {},
   "outputs": [
    {
     "data": {
      "text/plain": [
       "array([1, 2, 3, 4, 5])"
      ]
     },
     "execution_count": 8,
     "metadata": {},
     "output_type": "execute_result"
    }
   ],
   "source": [
    "arr1 = np.array([1, 2, 3, 4, 5])\n",
    "arr2 = arr1.view()\n",
    "arr2"
   ]
  },
  {
   "cell_type": "markdown",
   "metadata": {},
   "source": [
    "### Linear Algebra"
   ]
  },
  {
   "cell_type": "code",
   "execution_count": 9,
   "metadata": {},
   "outputs": [
    {
     "data": {
      "text/plain": [
       "array([-0.37228132,  5.37228132])"
      ]
     },
     "execution_count": 9,
     "metadata": {},
     "output_type": "execute_result"
    }
   ],
   "source": [
    "A = np.array([[1, 2], [3, 4]])\n",
    "eigenvalues, eigenvectors = np.linalg.eig(A)\n",
    "eigenvalues"
   ]
  },
  {
   "cell_type": "markdown",
   "metadata": {},
   "source": [
    "### FFT (Fast Fourier Transform)"
   ]
  },
  {
   "cell_type": "code",
   "execution_count": 10,
   "metadata": {},
   "outputs": [
    {
     "data": {
      "text/plain": [
       "array([ 4.        +0.j        , -2.11803399-1.53884177j,\n",
       "        0.11803399+0.36327126j,  0.11803399-0.36327126j,\n",
       "       -2.11803399+1.53884177j])"
      ]
     },
     "execution_count": 10,
     "metadata": {},
     "output_type": "execute_result"
    }
   ],
   "source": [
    "signal = np.array([0, 1, 2, 1, 0])\n",
    "fft_result = np.fft.fft(signal)\n",
    "\n",
    "fft_result"
   ]
  },
  {
   "cell_type": "markdown",
   "metadata": {},
   "source": [
    "### Polynomial Operations"
   ]
  },
  {
   "cell_type": "code",
   "execution_count": 11,
   "metadata": {},
   "outputs": [
    {
     "data": {
      "text/plain": [
       "11"
      ]
     },
     "execution_count": 11,
     "metadata": {},
     "output_type": "execute_result"
    }
   ],
   "source": [
    "poly1 = np.poly1d([1, 2, 3])  # Represents polynomial 1 + 2*x + 3*x^2\n",
    "poly2 = np.poly1d([4, 5, 6])  # Represents polynomial 4 + 5*x + 6*x^2\n",
    "poly_sum = np.polyadd(poly1, poly2)  # Adds two polynomials\n",
    "poly_product = np.polymul(poly1, poly2)  # Multiplies two polynomials\n",
    "value = np.polyval(poly1, 2)  # Evaluates polynomial at x=2\n",
    "\n",
    "value"
   ]
  },
  {
   "cell_type": "markdown",
   "metadata": {},
   "source": [
    "### Interpolation"
   ]
  },
  {
   "cell_type": "code",
   "execution_count": 12,
   "metadata": {},
   "outputs": [
    {
     "data": {
      "text/plain": [
       "array([ 6.38734818e-01,  5.88628335e-01,  5.40692185e-01,  4.94886426e-01,\n",
       "        4.51171117e-01,  4.09506315e-01,  3.69852079e-01,  3.32168468e-01,\n",
       "        2.96415539e-01,  2.62553352e-01,  2.30541964e-01,  2.00341434e-01,\n",
       "        1.71911820e-01,  1.45213181e-01,  1.20205575e-01,  9.68490597e-02,\n",
       "        7.51036943e-02,  5.49295368e-02,  3.62866457e-02,  1.91350793e-02,\n",
       "        3.43489587e-03, -1.08538462e-02, -2.37710885e-02, -3.53567727e-02,\n",
       "       -4.56508404e-02, -5.46932334e-02, -6.25238932e-02, -6.91827616e-02,\n",
       "       -7.47097800e-02, -7.91448903e-02, -8.25280341e-02, -8.48991529e-02,\n",
       "       -8.62981884e-02, -8.67650824e-02, -8.63397764e-02, -8.50622120e-02,\n",
       "       -8.29723311e-02, -8.01100750e-02, -7.65153857e-02, -7.22282045e-02,\n",
       "       -6.72884733e-02, -6.17361337e-02, -5.56111273e-02, -4.89533958e-02,\n",
       "       -4.18028808e-02, -3.41995239e-02, -2.61832669e-02, -1.77940513e-02,\n",
       "       -9.07181877e-03, -5.65110314e-05,  9.21193031e-03,  1.86935636e-02,\n",
       "        2.83484472e-02,  3.81366395e-02,  4.80181987e-02,  5.79531834e-02,\n",
       "        6.79016517e-02,  7.78236621e-02,  8.76792729e-02,  9.74285425e-02,\n",
       "        1.07031529e-01,  1.16448291e-01,  1.25638887e-01,  1.34563376e-01,\n",
       "        1.43181814e-01,  1.51454262e-01,  1.59340777e-01,  1.66801417e-01,\n",
       "        1.73796242e-01,  1.80285308e-01,  1.86228676e-01,  1.91586402e-01,\n",
       "        1.96318546e-01,  2.00385165e-01,  2.03746319e-01,  2.06362065e-01,\n",
       "        2.08192461e-01,  2.09197567e-01,  2.09337440e-01,  2.08572139e-01,\n",
       "        2.06861722e-01,  2.04166248e-01,  2.00445775e-01,  1.95660361e-01,\n",
       "        1.89770064e-01,  1.82734943e-01,  1.74515057e-01,  1.65070463e-01,\n",
       "        1.54361220e-01,  1.42347387e-01,  1.28989021e-01,  1.14246182e-01,\n",
       "        9.80789263e-02,  8.04473137e-02,  6.13114023e-02,  4.06312504e-02,\n",
       "        1.83669162e-02, -5.52154180e-03, -3.10740653e-02, -5.83305959e-02])"
      ]
     },
     "execution_count": 12,
     "metadata": {},
     "output_type": "execute_result"
    }
   ],
   "source": [
    "x = np.linspace(0, 10, 10)  # Sample x-values\n",
    "y = np.sin(x)  # Sample y-values\n",
    "interp_func = np.poly1d(np.polyfit(x, y, 3))  # Interpolates a polynomial of degree 3\n",
    "interpolated_values = interp_func(np.linspace(0, 10, 100))  # Interpolated y-values\n",
    "\n",
    "interpolated_values"
   ]
  },
  {
   "cell_type": "markdown",
   "metadata": {},
   "source": [
    "### Masked Arrays"
   ]
  },
  {
   "cell_type": "code",
   "execution_count": 13,
   "metadata": {},
   "outputs": [
    {
     "data": {
      "text/plain": [
       "masked_array(data=[1, 2, --, 4, 5],\n",
       "             mask=[False, False,  True, False, False],\n",
       "       fill_value=999999)"
      ]
     },
     "execution_count": 13,
     "metadata": {},
     "output_type": "execute_result"
    }
   ],
   "source": [
    "data = np.array([1, 2, -999, 4, 5])\n",
    "mask = data == -999  # Create a boolean mask for invalid values\n",
    "masked_data = np.ma.masked_array(data, mask=mask)  # Create a masked array\n",
    "\n",
    "masked_data"
   ]
  },
  {
   "cell_type": "markdown",
   "metadata": {},
   "source": [
    "### Broadcasting with Iterators"
   ]
  },
  {
   "cell_type": "code",
   "execution_count": 14,
   "metadata": {},
   "outputs": [
    {
     "name": "stdout",
     "output_type": "stream",
     "text": [
      "1 1\n",
      "2 2\n",
      "3 3\n",
      "4 4\n",
      "5 5\n",
      "6 6\n"
     ]
    }
   ],
   "source": [
    "arr = np.array([[1, 2, 3], [4, 5, 6]])\n",
    "for x, row in np.nditer([arr, arr]):\n",
    "    print(x, row)\n"
   ]
  },
  {
   "cell_type": "markdown",
   "metadata": {},
   "source": [
    "### Custom Data Types"
   ]
  },
  {
   "cell_type": "code",
   "execution_count": 15,
   "metadata": {},
   "outputs": [
    {
     "data": {
      "text/plain": [
       "array([(b'Alice', 25, 5.6), (b'Bob', 30, 6. )],\n",
       "      dtype=[('name', 'S10'), ('age', '<i4'), ('height', '<f4')])"
      ]
     },
     "execution_count": 15,
     "metadata": {},
     "output_type": "execute_result"
    }
   ],
   "source": [
    "dt = np.dtype([('name', 'S10'), ('age', 'i4'), ('height', 'f4')])\n",
    "data = np.array([('Alice', 25, 5.6), ('Bob', 30, 6.0)], dtype=dt)\n",
    "\n",
    "data"
   ]
  },
  {
   "cell_type": "markdown",
   "metadata": {},
   "source": [
    "### Parallel Computing"
   ]
  },
  {
   "cell_type": "code",
   "execution_count": 16,
   "metadata": {},
   "outputs": [
    {
     "data": {
      "text/plain": [
       "10000.065613618279"
      ]
     },
     "execution_count": 16,
     "metadata": {},
     "output_type": "execute_result"
    }
   ],
   "source": [
    "import dask.array as da\n",
    "\n",
    "arr = da.random.random((10000, 10000), chunks=(1000, 1000))\n",
    "result = (arr + arr.T).sum(axis=1).mean().compute()\n",
    "\n",
    "result"
   ]
  }
 ],
 "metadata": {
  "kernelspec": {
   "display_name": ".venv",
   "language": "python",
   "name": "python3"
  },
  "language_info": {
   "codemirror_mode": {
    "name": "ipython",
    "version": 3
   },
   "file_extension": ".py",
   "mimetype": "text/x-python",
   "name": "python",
   "nbconvert_exporter": "python",
   "pygments_lexer": "ipython3",
   "version": "3.12.2"
  }
 },
 "nbformat": 4,
 "nbformat_minor": 2
}
