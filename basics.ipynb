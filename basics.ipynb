{
 "cells": [
  {
   "cell_type": "code",
   "execution_count": 10,
   "metadata": {},
   "outputs": [],
   "source": [
    "import numpy as np"
   ]
  },
  {
   "cell_type": "markdown",
   "metadata": {},
   "source": [
    "### Creating NumPy arrays"
   ]
  },
  {
   "cell_type": "code",
   "execution_count": 11,
   "metadata": {},
   "outputs": [],
   "source": [
    "arr_1d = np.array([1, 2, 3, 4, 5])\n",
    "arr_2d = np.array([[1, 2, 3], [4, 5, 6], [7, 8, 9]])"
   ]
  },
  {
   "cell_type": "markdown",
   "metadata": {},
   "source": [
    "### Array Attributes"
   ]
  },
  {
   "cell_type": "code",
   "execution_count": 12,
   "metadata": {},
   "outputs": [
    {
     "name": "stdout",
     "output_type": "stream",
     "text": [
      "Shape of arr_2d: (3, 3)\n",
      "Data type of arr_2d: int64\n",
      "Number of dimensions in arr_2d: 2\n"
     ]
    }
   ],
   "source": [
    "print(\"Shape of arr_2d:\", arr_2d.shape)\n",
    "print(\"Data type of arr_2d:\", arr_2d.dtype)\n",
    "print(\"Number of dimensions in arr_2d:\", arr_2d.ndim)"
   ]
  },
  {
   "cell_type": "markdown",
   "metadata": {},
   "source": [
    "### Array Operations"
   ]
  },
  {
   "cell_type": "code",
   "execution_count": 13,
   "metadata": {},
   "outputs": [
    {
     "name": "stdout",
     "output_type": "stream",
     "text": [
      "Result of adding 10 to arr_1d: [11 12 13 14 15]\n",
      "Result of multiplying arr_1d by 2: [ 2  4  6  8 10]\n",
      "Matrix multiplication of arr_2d with itself: [[ 30  36  42]\n",
      " [ 66  81  96]\n",
      " [102 126 150]]\n"
     ]
    }
   ],
   "source": [
    "result = arr_1d + 10\n",
    "print(\"Result of adding 10 to arr_1d:\", result)\n",
    "\n",
    "result = arr_1d * 2\n",
    "print(\"Result of multiplying arr_1d by 2:\", result)\n",
    "\n",
    "result = np.dot(arr_2d, arr_2d)\n",
    "print(\"Matrix multiplication of arr_2d with itself:\", result)\n"
   ]
  },
  {
   "cell_type": "markdown",
   "metadata": {},
   "source": [
    "### Array Indexing and Slicing"
   ]
  },
  {
   "cell_type": "code",
   "execution_count": 14,
   "metadata": {},
   "outputs": [
    {
     "name": "stdout",
     "output_type": "stream",
     "text": [
      "First element of arr_1d: 1\n",
      "First 3 elements of arr_1d: [1 2 3]\n"
     ]
    }
   ],
   "source": [
    "print(\"First element of arr_1d:\", arr_1d[0])\n",
    "print(\"First 3 elements of arr_1d:\", arr_1d[:3])"
   ]
  },
  {
   "cell_type": "markdown",
   "metadata": {},
   "source": [
    "### Array Functions"
   ]
  },
  {
   "cell_type": "code",
   "execution_count": 15,
   "metadata": {},
   "outputs": [
    {
     "name": "stdout",
     "output_type": "stream",
     "text": [
      "Sum of all elements in arr_1d: 15\n",
      "Mean of all elements in arr_1d: 3.0\n",
      "Maximum value in arr_1d: 5\n",
      "Minimum value in arr_1d: 1\n",
      "Reshaped arr_1d: [[1]\n",
      " [2]\n",
      " [3]\n",
      " [4]\n",
      " [5]]\n"
     ]
    }
   ],
   "source": [
    "print(\"Sum of all elements in arr_1d:\", np.sum(arr_1d))\n",
    "print(\"Mean of all elements in arr_1d:\", np.mean(arr_1d))\n",
    "print(\"Maximum value in arr_1d:\", np.max(arr_1d))\n",
    "print(\"Minimum value in arr_1d:\", np.min(arr_1d))\n",
    "reshaped_arr = np.reshape(arr_1d, (5, 1))\n",
    "print(\"Reshaped arr_1d:\", reshaped_arr)"
   ]
  },
  {
   "cell_type": "markdown",
   "metadata": {},
   "source": [
    "### Random Number Generation"
   ]
  },
  {
   "cell_type": "code",
   "execution_count": 16,
   "metadata": {},
   "outputs": [
    {
     "name": "stdout",
     "output_type": "stream",
     "text": [
      "Random integer array: [[90 89 77]\n",
      " [ 2 14 72]\n",
      " [15 96 54]]\n",
      "Random float array: [[0.06428764 0.32715656 0.48356309]\n",
      " [0.4969634  0.54951269 0.78933989]\n",
      " [0.85611052 0.89955856 0.55318119]]\n"
     ]
    }
   ],
   "source": [
    "rand_int = np.random.randint(1, 100, size=(3, 3))\n",
    "print(\"Random integer array:\", rand_int)\n",
    "\n",
    "rand_float = np.random.rand(3, 3)\n",
    "print(\"Random float array:\", rand_float)"
   ]
  }
 ],
 "metadata": {
  "kernelspec": {
   "display_name": ".venv",
   "language": "python",
   "name": "python3"
  },
  "language_info": {
   "codemirror_mode": {
    "name": "ipython",
    "version": 3
   },
   "file_extension": ".py",
   "mimetype": "text/x-python",
   "name": "python",
   "nbconvert_exporter": "python",
   "pygments_lexer": "ipython3",
   "version": "3.12.2"
  }
 },
 "nbformat": 4,
 "nbformat_minor": 2
}
